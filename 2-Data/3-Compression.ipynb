{
 "cells": [
  {
   "cell_type": "markdown",
   "id": "818b53f6-ce03-41ae-8318-ab53be1d8916",
   "metadata": {},
   "source": [
    "# Conversion of the Latest Dataframe to Parquet\n",
    "\n",
    "We need to store our dataset in a warehouse so we use parquet"
   ]
  },
  {
   "cell_type": "code",
   "execution_count": 11,
   "id": "1c4a0c5a-ea47-4a91-a0de-de46b70fe9b0",
   "metadata": {},
   "outputs": [],
   "source": [
    "import pandas as pd\n",
    "import pyarrow as pa\n",
    "import pyarrow.parquet as pq\n",
    "\n",
    "# Load the Pandas DataFrame\n",
    "df = pd.read_csv('dialogues.csv', sep='\\t', encoding='utf-8')"
   ]
  },
  {
   "cell_type": "code",
   "execution_count": 12,
   "id": "d802024b-461f-4853-9e7c-229581a11836",
   "metadata": {},
   "outputs": [
    {
     "name": "stdout",
     "output_type": "stream",
     "text": [
      "DataFrame saved to Parquet file: ./data/parquet/dialogues.parquet\n"
     ]
    }
   ],
   "source": [
    "# Convert Pandas DataFrame to Arrow Table\n",
    "table = pa.Table.from_pandas(df)\n",
    "# Specify the output file path for the Parquet file\n",
    "parquet_file_path = './data/parquet/dialogues.parquet'\n",
    "\n",
    "# Write the Arrow Table to a Parquet file\n",
    "pq.write_table(table, parquet_file_path)\n",
    "\n",
    "print(f'DataFrame saved to Parquet file: {parquet_file_path}')"
   ]
  }
 ],
 "metadata": {
  "kernelspec": {
   "display_name": "Python (textgen)",
   "language": "python",
   "name": "texgen"
  },
  "language_info": {
   "codemirror_mode": {
    "name": "ipython",
    "version": 3
   },
   "file_extension": ".py",
   "mimetype": "text/x-python",
   "name": "python",
   "nbconvert_exporter": "python",
   "pygments_lexer": "ipython3",
   "version": "3.10.9"
  }
 },
 "nbformat": 4,
 "nbformat_minor": 5
}
