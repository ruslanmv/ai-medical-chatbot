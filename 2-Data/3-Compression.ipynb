{
 "cells": [
  {
   "cell_type": "markdown",
   "id": "818b53f6-ce03-41ae-8318-ab53be1d8916",
   "metadata": {},
   "source": [
    "# Conversion of the Latest Dataframe to Parquet\n",
    "\n",
    "We need to store our dataset in a warehouse so we use parquet"
   ]
  },
  {
   "cell_type": "code",
   "execution_count": 9,
   "id": "6c405c8e-e38d-4432-9a42-92b5e05feb58",
   "metadata": {},
   "outputs": [],
   "source": [
    "import pandas as pd\n",
    "import pyarrow as pa\n",
    "import pyarrow.parquet as pq\n",
    "# Load the Pandas DataFrame\n",
    "df = pd.read_csv('dialogues.csv', sep='\\t', encoding='utf-8')"
   ]
  },
  {
   "cell_type": "code",
   "execution_count": 10,
   "id": "c2733ed5-17a2-4999-a41c-9fb833ff39be",
   "metadata": {},
   "outputs": [],
   "source": [
    "df.to_parquet('./data/parquet/dialogues.parquet')"
   ]
  }
 ],
 "metadata": {
  "kernelspec": {
   "display_name": "Python (textgen)",
   "language": "python",
   "name": "texgen"
  },
  "language_info": {
   "codemirror_mode": {
    "name": "ipython",
    "version": 3
   },
   "file_extension": ".py",
   "mimetype": "text/x-python",
   "name": "python",
   "nbconvert_exporter": "python",
   "pygments_lexer": "ipython3",
   "version": "3.10.9"
  }
 },
 "nbformat": 4,
 "nbformat_minor": 5
}
